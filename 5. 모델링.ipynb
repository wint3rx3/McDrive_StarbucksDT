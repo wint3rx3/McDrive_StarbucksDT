{
 "cells": [
  {
   "cell_type": "code",
   "execution_count": 19,
   "metadata": {},
   "outputs": [],
   "source": [
    "import pandas as pd\n",
    "\n",
    "# Load the uploaded files\n",
    "mcdonalds_file_path = 'data/맥도날드_상권정보.csv'\n",
    "starbucks_file_path = 'data/스타벅스_상권정보.csv'\n",
    "\n",
    "# Read the CSV files\n",
    "mcdonalds_df = pd.read_csv(mcdonalds_file_path)\n",
    "starbucks_df = pd.read_csv(starbucks_file_path)"
   ]
  },
  {
   "cell_type": "code",
   "execution_count": 20,
   "metadata": {},
   "outputs": [],
   "source": [
    "def clean_numeric_column(column):\n",
    "    return column.str.replace('만원', '').str.replace(',', '').astype(float)\n",
    "\n",
    "# Apply cleaning function to relevant columns\n",
    "mcdonalds_df['SalesAmt'] = clean_numeric_column(mcdonalds_df['SalesAmt'])\n",
    "starbucks_df['SalesAmt'] = clean_numeric_column(starbucks_df['SalesAmt'])\n",
    "\n",
    "# Also clean 'FlowPop', 'EmpEop', 'AbodePop', and 'EmpAvgCo' columns which have '명' and '만원'\n",
    "for column in ['FlowPop', 'EmpEop', 'AbodePop', 'EmpAvgCo']:\n",
    "    mcdonalds_df[column] = mcdonalds_df[column].str.replace('명', '').str.replace('만원', '').str.replace(',', '').astype(float)\n",
    "    starbucks_df[column] = starbucks_df[column].str.replace('명', '').str.replace('만원', '').str.replace(',', '').astype(float)"
   ]
  },
  {
   "cell_type": "code",
   "execution_count": 21,
   "metadata": {},
   "outputs": [
    {
     "data": {
      "text/plain": [
       "(5072.571960784313, 62008460.10236667, -0.18474637606859212)"
      ]
     },
     "execution_count": 21,
     "metadata": {},
     "output_type": "execute_result"
    },
    {
     "ename": "",
     "evalue": "",
     "output_type": "error",
     "traceback": [
      "\u001b[1;31m현재 셀 또는 이전 셀에서 코드를 실행하는 동안 Kernel이 충돌했습니다. \n",
      "\u001b[1;31m셀의 코드를 검토하여 가능한 오류 원인을 식별하세요. \n",
      "\u001b[1;31m자세한 내용을 보려면 <a href='https://aka.ms/vscodeJupyterKernelCrash'>여기</a>를 클릭하세요. \n",
      "\u001b[1;31m자세한 내용은 Jupyter <a href='command:jupyter.viewOutput'>로그</a>를 참조하세요."
     ]
    }
   ],
   "source": [
    "from sklearn.model_selection import train_test_split\n",
    "from sklearn.ensemble import RandomForestRegressor\n",
    "from sklearn.metrics import mean_absolute_error, mean_squared_error, r2_score\n",
    "\n",
    "# Select features and target variable\n",
    "features = ['FlowPop', 'EmpEop', 'AbodePop', 'EmpAvgCo']\n",
    "target = 'SalesAmt'\n",
    "\n",
    "# Prepare the data for McDonald's\n",
    "X = mcdonalds_df[features]\n",
    "y = mcdonalds_df[target]\n",
    "\n",
    "# Split the data into training and test sets\n",
    "X_train, X_test, y_train, y_test = train_test_split(X, y, test_size=0.2, random_state=42)\n",
    "\n",
    "# Initialize the Random Forest Regressor model\n",
    "model = RandomForestRegressor(random_state=42)\n",
    "\n",
    "# Train the model\n",
    "model.fit(X_train, y_train)\n",
    "\n",
    "# Predict sales on the test set\n",
    "y_pred = model.predict(X_test)\n",
    "\n",
    "# Evaluate the model performance\n",
    "mae = mean_absolute_error(y_test, y_pred)\n",
    "mse = mean_squared_error(y_test, y_pred)\n",
    "r2 = r2_score(y_test, y_pred)\n",
    "\n",
    "mae, mse, r2"
   ]
  },
  {
   "cell_type": "code",
   "execution_count": null,
   "metadata": {},
   "outputs": [],
   "source": []
  }
 ],
 "metadata": {
  "kernelspec": {
   "display_name": "base",
   "language": "python",
   "name": "python3"
  },
  "language_info": {
   "codemirror_mode": {
    "name": "ipython",
    "version": 3
   },
   "file_extension": ".py",
   "mimetype": "text/x-python",
   "name": "python",
   "nbconvert_exporter": "python",
   "pygments_lexer": "ipython3",
   "version": "3.12.4"
  }
 },
 "nbformat": 4,
 "nbformat_minor": 2
}
